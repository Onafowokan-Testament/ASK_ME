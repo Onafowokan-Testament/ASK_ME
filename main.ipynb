{
 "cells": [
  {
   "cell_type": "code",
   "execution_count": 41,
   "metadata": {},
   "outputs": [
    {
     "data": {
      "text/plain": [
       "<function dotenv.main.load_dotenv(dotenv_path: Union[str, ForwardRef('os.PathLike[str]'), NoneType] = None, stream: Optional[IO[str]] = None, verbose: bool = False, override: bool = False, interpolate: bool = True, encoding: Optional[str] = 'utf-8') -> bool>"
      ]
     },
     "execution_count": 41,
     "metadata": {},
     "output_type": "execute_result"
    }
   ],
   "source": [
    "from dotenv import load_dotenv\n",
    "import os\n",
    "load_dotenv"
   ]
  },
  {
   "cell_type": "code",
   "execution_count": 61,
   "metadata": {},
   "outputs": [],
   "source": [
    "from langchain_groq import ChatGroq\n",
    "from langchain.chains import SequentialChain\n",
    "from langchain.chains import LLMChain\n",
    "from langchain.prompts import PromptTemplate\n",
    "from langchain_community.document_loaders import PyPDFLoader\n",
    "from langchain_text_splitters import RecursiveCharacterTextSplitter\n"
   ]
  },
  {
   "cell_type": "code",
   "execution_count": 43,
   "metadata": {},
   "outputs": [],
   "source": [
    "model =ChatGroq(model='deepseek-r1-distill-llama-70b')"
   ]
  },
  {
   "cell_type": "code",
   "execution_count": 44,
   "metadata": {},
   "outputs": [],
   "source": [
    "urls = 'https://www.covenantuniversity.edu.ng/downloads/Student-handbook-Feb-2020.pdf'\n",
    "loader = PyPDFLoader(urls)\n",
    "pages =[]\n",
    "\n",
    "async for page in loader.alazy_load():\n",
    "    pages.append(page)"
   ]
  },
  {
   "cell_type": "code",
   "execution_count": 64,
   "metadata": {},
   "outputs": [],
   "source": [
    "splitter = RecursiveCharacterTextSplitter(\n",
    "    separators=['\\n\\n', '\\n', '.'],\n",
    "    chunk_size=400,\n",
    "    chunk_overlap=0\n",
    ")"
   ]
  },
  {
   "cell_type": "code",
   "execution_count": 74,
   "metadata": {},
   "outputs": [],
   "source": [
    "split_text = []\n",
    "for page in pages:\n",
    "    split = splitter.split_text(page.page_content)\n",
    "    split_text.append(split)"
   ]
  },
  {
   "cell_type": "code",
   "execution_count": 54,
   "metadata": {},
   "outputs": [
    {
     "data": {
      "text/plain": [
       "\" \\niv \\n3.2. Senate Building ...................................................................................................... 49 \\n3.3. Centre for Learning Resources ................................................................. 50 \\n3.4. Colleges ....................................................................................................................... 50 \\n3.5. Lecture Theatre ..................................................................................................... 53 \\n3.6. Centre for Entrepreneurial Development Studies (CEDS) .. 54 \\n3.7. African Leadership Development Centre (ALDC) ...................... 55 \\n3.8. Staff Residential Quarters .............................................................................. 56 \\n3.9. Students’ Halls of Residence ...................................................................... 59 \\n3.10. Covenant University Guest House .......................................................... 61 \\n3.11. Cafeteria ........................................................................................................................ 61 \\n3.12. Covenant University Medical Centre ..................................................... 61 \\n3.13. Centre for Research Innovation and Discovery (CUCRID) ... 62 \\n3.14. Other Infrastructural Support...................................................................... 63 \\nChapter Four | Students’ Support Services ................................ ...... 64 \\n4.1. Students' Orientation Programme .......................................................... 64 \\n4.2. General Oversight of Halls of Residence .......................................... 64 \\n4.3. CU-SBU Quality Control .................................................................................. 65 \\n4.4. Buttery/Salon Services ................................................................................... 65 \\n4.5. University Bookstore ......................................................................................... 65 \\n4.6. Telephone Services ............................................................................................ 66 \\n4.7. Photocopying........................................................................................................... 66 \\n4.8. Postal Agency ......................................................................................................... 66 \\nChapter Five | Student Leadership ................................ .......................67 \\n5.1. Student Council ..................................................................................................... 67 \\n5.2. Student Consultative Assembly (SCA) ................................................ 68 \""
      ]
     },
     "execution_count": 54,
     "metadata": {},
     "output_type": "execute_result"
    }
   ],
   "source": [
    "pages[5].page_content\n"
   ]
  },
  {
   "cell_type": "code",
   "execution_count": null,
   "metadata": {},
   "outputs": [],
   "source": []
  }
 ],
 "metadata": {
  "kernelspec": {
   "display_name": "venv",
   "language": "python",
   "name": "python3"
  },
  "language_info": {
   "codemirror_mode": {
    "name": "ipython",
    "version": 3
   },
   "file_extension": ".py",
   "mimetype": "text/x-python",
   "name": "python",
   "nbconvert_exporter": "python",
   "pygments_lexer": "ipython3",
   "version": "3.11.4"
  }
 },
 "nbformat": 4,
 "nbformat_minor": 2
}
