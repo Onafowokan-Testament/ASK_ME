{
 "cells": [
  {
   "cell_type": "code",
   "execution_count": 12,
   "metadata": {},
   "outputs": [
    {
     "data": {
      "text/plain": [
       "<function dotenv.main.load_dotenv(dotenv_path: Union[str, ForwardRef('os.PathLike[str]'), NoneType] = None, stream: Optional[IO[str]] = None, verbose: bool = False, override: bool = False, interpolate: bool = True, encoding: Optional[str] = 'utf-8') -> bool>"
      ]
     },
     "execution_count": 12,
     "metadata": {},
     "output_type": "execute_result"
    }
   ],
   "source": [
    "from dotenv import load_dotenv\n",
    "import os\n",
    "load_dotenv"
   ]
  },
  {
   "cell_type": "code",
   "execution_count": 13,
   "metadata": {},
   "outputs": [],
   "source": [
    "from langchain_groq import ChatGroq\n",
    "from langchain.chains import SequentialChain\n",
    "from langchain.chains import LLMChain\n",
    "from langchain.prompts import PromptTemplate"
   ]
  },
  {
   "cell_type": "code",
   "execution_count": 14,
   "metadata": {},
   "outputs": [],
   "source": [
    "model =ChatGroq(model='deepseek-r1-distill-llama-70b')"
   ]
  },
  {
   "cell_type": "code",
   "execution_count": 16,
   "metadata": {},
   "outputs": [],
   "source": [
    "prompt = PromptTemplate(\n",
    "    input_variables=['country'],\n",
    "    template=\"What is the capital of this country {country}?\",\n",
    ")"
   ]
  },
  {
   "cell_type": "code",
   "execution_count": 17,
   "metadata": {},
   "outputs": [
    {
     "name": "stderr",
     "output_type": "stream",
     "text": [
      "C:\\Users\\USER\\AppData\\Local\\Temp\\ipykernel_21112\\3447549842.py:1: LangChainDeprecationWarning: The class `LLMChain` was deprecated in LangChain 0.1.17 and will be removed in 1.0. Use :meth:`~RunnableSequence, e.g., `prompt | llm`` instead.\n",
      "  chain = LLMChain(llm=model, prompt=prompt)\n"
     ]
    },
    {
     "data": {
      "text/plain": [
       "{'country': 'nigeria',\n",
       " 'text': \"<think>\\nOkay, so I need to figure out the capital of Nigeria. I remember that Nigeria is a country in Africa, but I'm not exactly sure where. I think it's in West Africa. Now, capitals can be tricky because sometimes the largest city isn't the capital. For example, in the United States, the capital is Washington D.C., but the largest city is New York. So maybe it's similar in Nigeria.\\n\\nI recall that Lagos is a major city in Nigeria, maybe the biggest one. I've heard of Lagos before, probably because it's a bustling metropolis. But I'm not sure if it's the capital. Sometimes countries move their capitals for various reasons, like political or administrative purposes. \\n\\nWait, I think Nigeria's capital used to be Lagos, but then they changed it. I remember something about Abuja being the capital now. I think Abuja is more of a planned city, built specifically to be the capital, similar to how Brazil has Brasília instead of Rio de Janeiro. So maybe Nigeria moved its capital from Lagos to Abuja to distribute resources better or for political stability.\\n\\nI'm trying to remember when that happened. I think it was in the 90s, maybe around 1991. So, Lagos was the capital before that, but now Abuja is the federal capital territory. That makes sense because sometimes moving the capital can help in decentralizing power and development.\\n\\nLet me double-check that. If I think about other countries, like Egypt, the capital is Cairo, which is also the largest city. But in Nigeria, moving the capital to Abuja was a deliberate decision. So, I'm pretty confident that the capital of Nigeria is Abuja, not Lagos, even though Lagos is more well-known internationally.\\n\\nI should also consider if there are any other cities that could be the capital. I don't think so. Port Harcourt is another major city, but it's more known for its oil industry. Abuja seems to be the administrative center now. So, putting it all together, the capital of Nigeria is Abuja.\\n</think>\\n\\nThe capital of Nigeria is Abuja. It was moved from Lagos in 1991 as part of a planned development to serve as the federal capital territory, aiming to decentralize power and resources.\"}"
      ]
     },
     "execution_count": 17,
     "metadata": {},
     "output_type": "execute_result"
    }
   ],
   "source": [
    "chain = LLMChain(llm=model, prompt=prompt)\n",
    "chain.invoke(\"nigeria\")"
   ]
  },
  {
   "cell_type": "code",
   "execution_count": null,
   "metadata": {},
   "outputs": [],
   "source": []
  }
 ],
 "metadata": {
  "kernelspec": {
   "display_name": "venv",
   "language": "python",
   "name": "python3"
  },
  "language_info": {
   "codemirror_mode": {
    "name": "ipython",
    "version": 3
   },
   "file_extension": ".py",
   "mimetype": "text/x-python",
   "name": "python",
   "nbconvert_exporter": "python",
   "pygments_lexer": "ipython3",
   "version": "3.11.4"
  }
 },
 "nbformat": 4,
 "nbformat_minor": 2
}
